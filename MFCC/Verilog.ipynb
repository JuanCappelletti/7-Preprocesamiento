{
 "cells": [
  {
   "cell_type": "markdown",
   "metadata": {},
   "source": [
    "## Verificación de locutores\n",
    "\n",
    "Dado un segmento de voz Y, y un locutor hipotético S, la tarea de la verificación de locutores es determinar si Y fue dicho por S.  \n",
    "Supondremos siempre que Y siempre tiene locuciones de un solo locutor.\n",
    "\n",
    "La verificación de locutores puede ser planteada como un test de hipótesis tal que:\n",
    "\n",
    "$H_0$: Y pertenece al locutor hipotético S \n",
    "\n",
    "O bien:\n",
    "\n",
    "$H_1$: Y no pertenece al locutor hipotético S\n",
    "\n",
    "La forma óptima de determinar qué hipótesis es verdadera es utilizando el likelihood ratio dado por: \n",
    "\n",
    "$$\n",
    "\\frac{p(Y|H_0)}{p(Y|H_1)}=\\left\\{\n",
    "        \\begin{array}{ll}\n",
    "            \\geq \\theta & \\quad \\textrm{aceptar }  H_0 \\\\\n",
    "            < \\theta & \\quad \\textrm{rechazar }  H_0\n",
    "        \\end{array}\n",
    "    \\right.\n",
    "$$\n",
    "\n",
    "Donde $\\theta$ es el umbral de decisión.\n",
    "\n",
    "El módulo de front-end se encarga de realizar la extracción de características (features) de la señal de voz. Los modelos a utilizar deben estar representados en función de estos features. Un caso particular de estos features son los coeficientes MFCC ya que están vinculados al modelo de la cóclea, la cual está adaptada particularmente para interpretar la voz humana. Otra posibilidad que se utiliza para verificación de locutores son los coeficientes LPC los cuales contienen información acerca de como la señal es generada por el aparato fonador. Adicionalmente, el módulo de front-end puede contener un VAD, un supresor de ruido y un filtro de preénfasis. El VAD es muy útil ya que permite que uno no tenga en consideración muchas muestras que aportarían ceros generando un corrimiento de los parámetros estadísticos. Además para nuestro caso, el silencio forma parte de la mayoría de las locuciones, lo cual atenta en contra de la discriminación entre características. Los valores del MFCCs no son muy robustos ante la presencia de ruido aditivo, por ello es común que se implemente una etapa de supresión de ruido, o ligeras modificaciones de MFCC. Por último la señal de voz contiene información en sus altas frecuencias (las cuales tienen tasas de variación mas altas) que las señales de bajas frecuencias. Es por ello que se suele considerar un filtro de preénfasis. El filtro de preénfasis mas utilizado tiene la forma: \n",
    "\n",
    "$$ y(n)=x(n)-\\alpha.x(n-1), \\textrm{ con }0.9 < \\alpha < 0.97 $$\n",
    "\n",
    "Una pregunta que puede surgir en este momento es cuál es la conveniencia de utilizar MFCC (con la DCT en el bloque final del proceso) en vez de utilizar un banco de filtros logarítmico. Para responder esto, ya vamos adelantando que la forma de modelar tanto al modelo de mundo como al modelo del locutor se hará utilizando GMM. GMM mejora mucho su performance si cada una de sus variables es independiente. En general se observa que la etapa de DCT elimina dependencia entre los coeficientes MFCC, mejorando el rendimiento del sistema. Esta es una de las razones de peso por las cuales MFCC tiene una DCT a la salida y no una IFFT.\n",
    "\n",
    "Para mas información con respecto a la generación de los coeficientes MFCC se recomienda ver este [link](http://www.practicalcryptography.com/miscellaneous/machine-learning/guide-mel-frequency-cepstral-coefficients-mfccs/)"
   ]
  },
  {
   "cell_type": "markdown",
   "metadata": {},
   "source": [
    "Algunas consideraciones sobre el paquete [python_speech_features](http://python-speech-features.readthedocs.io/en/latest/index.html#):\n",
    "\n",
    "* Ya aplica filtro de preenfasis\n",
    "* si bien calcua los 26 MFCC solo devuelve los primeros 13, los cuales son los mas importantes para la verificación de locutores.\n",
    "* appendEnergy pone en el bin 1 de los features el logaritmo de la energía. Esto ocurre ya que en general se descartan los 2 o 3 primeros elementos de los MFCC ya que no se ve un aumento significativo del score y sí se ve un aumento en el score si agrego a mi modelo el logaritmo de la energía del frame. Para mas información se recomienda leer este [paper](http://ai2-s2-pdfs.s3.amazonaws.com/6f14/5968059d006235d59d1c201d5185b440d221.pdf).\n",
    "\n",
    "Adicionalmente se suelen aplicar algunos liftros y los features conocidos como delta y delta-delta como veremos mas adelante."
   ]
  },
  {
   "cell_type": "code",
   "execution_count": 1,
   "metadata": {},
   "outputs": [
    {
     "data": {
      "text/plain": [
       "<Figure size 640x480 with 1 Axes>"
      ]
     },
     "metadata": {},
     "output_type": "display_data"
    }
   ],
   "source": [
    "from python_speech_features import mfcc \n",
    "from python_speech_features import logfbank\n",
    "from python_speech_features import base\n",
    "import scipy.io.wavfile as wav\n",
    "import matplotlib.pyplot as plt\n",
    "import numpy as np\n",
    "from sklearn import mixture\n",
    "import itertools\n",
    "from scipy import linalg\n",
    "import matplotlib as mpl\n",
    "\n",
    "def mfcc_wav(file):\n",
    "    (rate,sig) = wav.read(file)\n",
    "    mfcc_feat = mfcc(sig,rate,nfft=512,appendEnergy=True)\n",
    "    #fbank_feat = logfbank(sig,rate,nfft=512)\n",
    "    return mfcc_feat\n",
    "\n",
    "mfcc_feat=mfcc_wav(\"mundo.wav\")\n",
    "plt.hist(mfcc_feat.T[5], bins=40)\n",
    "plt.title(\"Histogram\")\n",
    "plt.xlabel(\"Value\")\n",
    "plt.ylabel(\"Frequency\")\n",
    "plt.show()"
   ]
  },
  {
   "cell_type": "code",
   "execution_count": 2,
   "metadata": {
    "collapsed": true
   },
   "outputs": [],
   "source": [
    "WINDOW_SIZE=20\n",
    "mundo_size=mfcc_feat.shape[0]-WINDOW_SIZE+1\n",
    "mundo=np.array([mfcc_feat[i:i+WINDOW_SIZE].reshape(1,WINDOW_SIZE*mfcc_feat.shape[1])[0] for i in range(mundo_size)])"
   ]
  },
  {
   "cell_type": "code",
   "execution_count": 3,
   "metadata": {
    "collapsed": true
   },
   "outputs": [
    {
     "data": {
      "text/plain": [
       "array([  8.2735939 , -36.54609875,  23.69603008, -16.5070533 ,\n",
       "        12.01870915, -18.15439091,  15.74576462,  -6.73881606,\n",
       "        -3.24585288,   4.89165966,  -4.15684418,  -0.8209452 ,\n",
       "        -1.62943819,   7.98226232, -46.13965039,  22.97692025,\n",
       "       -10.66959535,   7.71275206, -22.58557751,  18.74388904,\n",
       "        -3.1929766 ,  -4.68366538,   3.15471241,  -3.19703806,\n",
       "        -0.45735365,   1.31570582,   8.04361292, -39.20014361,\n",
       "        21.69446529, -13.86175807,   9.80813936, -20.22351231,\n",
       "        14.31072568,  -7.7443988 ,  -4.76882842,   2.23613116,\n",
       "        -3.91457845,  -0.24096122,  -1.43206452,   8.01514461,\n",
       "       -43.6777627 ,  23.73037114, -11.21375175,   9.00604438,\n",
       "       -18.17757488,  18.03384752,  -3.43744575,  -3.70497148,\n",
       "         2.55588557,  -5.34041547,   4.52767307,   0.90422581,\n",
       "         8.0651455 , -41.38219654,  22.57875537, -11.47967352,\n",
       "         9.02568296, -18.53798189,  16.77933841,  -6.70160264,\n",
       "        -5.40524852,   3.99116116,  -5.36557172,   2.21272491,\n",
       "        -1.59421742,   8.19900033, -35.33924514,  22.19544728,\n",
       "       -14.86149634,   8.32256784, -18.30569972,  16.07199691,\n",
       "       -11.52683632,  -4.6199148 ,   3.70506611,  -7.74450485,\n",
       "        -0.36685873,  -4.40607901,   8.58549729, -18.36592565,\n",
       "        -1.94487161,  -0.51367639,  12.4205101 , -15.6443558 ,\n",
       "         1.3463112 ,  -8.44947635,  -1.77573329,  -5.29478596,\n",
       "       -17.72590085,  -0.50026165,  16.7520391 ,  12.8304369 ,\n",
       "       -12.85753962, -23.67533206,  -9.29172543, -14.88853101,\n",
       "         8.37433461,  -2.17887886,  -4.62544001,  13.36730024,\n",
       "         4.01742369,  -8.93627982,  11.15361823,   0.46973977,\n",
       "        14.21035864,  -8.37791395, -17.49096408,  -7.42020335,\n",
       "       -15.60656776,   4.79518057, -21.31216138, -21.53007786,\n",
       "         4.88620865,   7.87336826,  -0.88404548,   8.41647356,\n",
       "         1.65420392,  14.69434316,  -9.08823244, -14.32755738,\n",
       "        -4.66193124, -13.50284074,   3.63661735, -22.01281845,\n",
       "       -18.55034952,  -0.58957807,   9.99698251,   9.41467929,\n",
       "         3.25951158,   3.32856682,  15.16207104,  -8.06226935,\n",
       "       -16.70374108,  -7.1560714 ,  -9.0420867 ,   5.77038341,\n",
       "       -21.97664966, -20.40876648,  -1.90891163,  14.62824511,\n",
       "         6.30574445,  -8.83621274,   0.35796277,  15.40033326,\n",
       "        -6.6272684 , -17.66226976,  -8.26055744,  -3.43447394,\n",
       "         7.11426941, -23.31589768, -24.38060599,   2.17362528,\n",
       "        12.69311939,   8.23839891, -11.10954789, -12.22905063,\n",
       "        15.30811676,  -5.32388734, -17.80200573,  -8.77191747,\n",
       "        -1.17918767,  10.60455801, -22.42898207, -24.52526593,\n",
       "         3.86039402,   8.9074197 ,  11.55946387,  -2.99155907,\n",
       "       -11.96305039,  14.95550671,  -4.74791042, -19.67873686,\n",
       "        -8.35883162,   1.14646926,   9.53935038, -20.50796345,\n",
       "       -21.84085337,   0.47157201,  -1.90199052,   7.19686532,\n",
       "         0.52934287, -11.95985785,  14.25370858,  -3.87100178,\n",
       "       -17.79859159,  -6.30813658,  -1.41321864,   4.24908893,\n",
       "       -17.45598706, -14.05565587,  -2.43829317,  -9.57968008,\n",
       "        -5.82233571,   5.56910341,  -2.46854255,  14.1127733 ,\n",
       "        -4.1092149 , -18.06610545,  -2.7355587 ,  -8.77479593,\n",
       "        -1.49596562, -17.57678182, -16.34991929,   2.54344352,\n",
       "       -10.59091138,  -8.76873629,   6.45916768,  -3.60373593,\n",
       "        14.04276414,  -2.23308945, -15.88157153,   3.06875596,\n",
       "        -9.52668441,  -4.45725376, -24.79933759, -18.25588611,\n",
       "         1.23420736,  -6.55572847,  -7.82904693,   0.46104269,\n",
       "        -7.60828182,  14.12161635,  -2.22315141, -14.27424986,\n",
       "        -1.0197098 , -13.71258473,  -3.60245912, -21.06148373,\n",
       "       -18.12593678,  -1.9579976 ,  -1.08629967,  -1.57984831,\n",
       "         1.38652449,  -2.64846914,  14.89085784,  -0.55563123,\n",
       "       -13.38132539,  -5.77526463, -15.23059832, -12.58150459,\n",
       "       -16.47467386, -24.70162794, -15.95338474,   4.18226403,\n",
       "         3.03657805,   1.12332892,   5.53566063,  15.48535993,\n",
       "        -5.61511354, -13.01558827,  -5.1591944 ,  -3.09341995,\n",
       "       -21.3372066 , -10.72518323, -22.31117085,  -9.54529801,\n",
       "         3.84695708,   1.39498505,   2.10187005,  13.50757997])"
      ]
     },
     "execution_count": 3,
     "metadata": {},
     "output_type": "execute_result"
    }
   ],
   "source": [
    "mundo[1]"
   ]
  },
  {
   "cell_type": "code",
   "execution_count": 4,
   "metadata": {},
   "outputs": [
    {
     "data": {
      "text/plain": [
       "(8999, 260)"
      ]
     },
     "execution_count": 4,
     "metadata": {},
     "output_type": "execute_result"
    }
   ],
   "source": [
    "mundo.shape"
   ]
  },
  {
   "cell_type": "code",
   "execution_count": 5,
   "metadata": {},
   "outputs": [],
   "source": [
    "mundo_labels=np.array([[0,1]]*mundo.shape[0])"
   ]
  },
  {
   "cell_type": "code",
   "execution_count": 6,
   "metadata": {},
   "outputs": [
    {
     "data": {
      "text/plain": [
       "array([0, 1])"
      ]
     },
     "execution_count": 6,
     "metadata": {},
     "output_type": "execute_result"
    }
   ],
   "source": [
    "mundo_labels[0]"
   ]
  },
  {
   "cell_type": "code",
   "execution_count": 7,
   "metadata": {},
   "outputs": [
    {
     "data": {
      "text/plain": [
       "(8999, 2)"
      ]
     },
     "execution_count": 7,
     "metadata": {},
     "output_type": "execute_result"
    }
   ],
   "source": [
    "mundo_labels.shape"
   ]
  },
  {
   "cell_type": "code",
   "execution_count": 8,
   "metadata": {},
   "outputs": [],
   "source": [
    "mfcc_feat=mfcc_wav(\"homero.wav\")"
   ]
  },
  {
   "cell_type": "code",
   "execution_count": 9,
   "metadata": {},
   "outputs": [],
   "source": [
    "homero_size=mfcc_feat.shape[0]-WINDOW_SIZE+1\n",
    "homero=np.array([mfcc_feat[i:i+WINDOW_SIZE].reshape(1,WINDOW_SIZE*mfcc_feat.shape[1])[0] for i in range(homero_size)])"
   ]
  },
  {
   "cell_type": "code",
   "execution_count": 10,
   "metadata": {},
   "outputs": [
    {
     "data": {
      "text/plain": [
       "array([ 13.42441896,  -9.54737569,  -0.833594  ,  -1.95628675,\n",
       "       -17.95900934,   9.90341883, -27.00638292,   1.52930107,\n",
       "       -15.58209462,   3.24977217,  10.61467642,   3.12386513,\n",
       "         9.69583218,  13.45469613, -11.74664573,   0.83810425,\n",
       "        -4.41190443, -15.03683097,   9.22118708, -20.97075208,\n",
       "         3.49007006, -14.55346951,   3.69827719,   9.56741389,\n",
       "         7.553959  ,   6.55940766,  15.04428306,  -8.24775089,\n",
       "       -13.85182391,  -2.68081226,  -3.4921645 ,  -4.08495373,\n",
       "       -15.79572271,  -6.63121145,  -5.27985443,  14.2791161 ,\n",
       "        -0.48869955,   7.15436944,   5.7909795 ,  17.0585126 ,\n",
       "         3.37211779,  -8.40272765, -11.95630534, -20.49241542,\n",
       "       -21.76964907,   0.52262036,  -7.27174821, -12.46115223,\n",
       "         0.77876468,  -9.24232837, -10.0308377 ,  -1.58369997,\n",
       "        17.79648597,   3.37324026,  -7.41723784, -13.87993555,\n",
       "       -32.35063997, -29.02041881,   2.75402301, -10.87102664,\n",
       "       -14.00894147,  -0.10761005, -13.75258763,  -6.92901847,\n",
       "         6.06855987,  18.24939875,   4.51582829,  -1.49475212,\n",
       "       -15.7522511 , -42.73860277, -40.5503659 ,  16.14492621,\n",
       "       -11.53843822, -18.72406055,  -0.19541117,  -0.66140254,\n",
       "        -1.14057938,   1.71974325,  18.09917485,   3.97803097,\n",
       "        -0.83498758, -14.98256732, -40.56510744, -37.87039089,\n",
       "        21.92294786,  -7.48623459, -10.38388614,   9.99297724,\n",
       "         4.8761711 ,   0.33558335,  10.37497267,  17.88303143,\n",
       "         5.15703028,  -3.75106143, -12.11925266, -35.14289989,\n",
       "       -36.42663027,  25.56767274,   0.13000148, -14.40092386,\n",
       "         2.0931958 ,   4.15588638,   9.10763455,  10.05761938,\n",
       "        17.88906526,   4.42273797,  -9.68681632, -10.95439924,\n",
       "       -34.5146231 , -32.22442545,  25.87585055,  -6.07185164,\n",
       "       -20.98222605,  -0.27045946,   9.43521798,  12.36383934,\n",
       "        10.80264916,  18.03027466,   2.56142341, -12.79679496,\n",
       "       -14.00897346, -35.52415685, -34.62351366,  25.61748388,\n",
       "       -18.67811952, -17.14738936,  -1.85749124,  20.69196502,\n",
       "        11.17150329,  14.77523532,  17.9363805 ,   0.50903961,\n",
       "        -9.610716  , -12.15196166, -33.291131  , -26.43602604,\n",
       "        20.93868586, -24.3550847 , -13.90062952,  -6.4031133 ,\n",
       "        23.96430818,   2.98919198,  21.6891883 ,  17.39383366,\n",
       "        -2.40447101,  -4.59343616,  -8.65917934, -27.8788996 ,\n",
       "       -15.27632941,   5.60973533, -30.05795159,  -8.17141483,\n",
       "        -5.64686841,  18.2601278 ,  -2.4335058 ,  19.91345283,\n",
       "        16.93244384,  -5.13565064,  -1.90659493,  -4.79286568,\n",
       "       -27.46537917,  -8.7686432 ,  -2.88681146, -30.37986183,\n",
       "       -12.22811492,  -9.56052784,  18.33092074,  -6.76194809,\n",
       "        14.64500214,  16.63682132,  -8.34866232,   0.20097812,\n",
       "         5.96370355, -20.61745162,  10.72594246,  -6.41229864,\n",
       "       -19.31559997, -21.51885107,  -2.52219613,   4.43135952,\n",
       "         1.79524228,  11.46522062,  17.15813636,  -9.11912526,\n",
       "        -4.69300657,   4.17701662, -15.51474474,   4.32455652,\n",
       "       -16.76780245, -27.55024498, -31.3239666 ,  -0.88340603,\n",
       "        -7.68064887,   1.65575489,   0.83237611,  18.44927494,\n",
       "        -3.69121761, -14.9631594 ,   8.13625676, -13.06762333,\n",
       "        -4.58521067, -28.38886134, -19.42341219, -36.80950151,\n",
       "         6.75212159,   7.39810854,  10.7085271 ,   0.74671271,\n",
       "        19.97985968,  -2.1121547 , -31.88211143,   8.12560522,\n",
       "       -15.89992891, -13.98901612, -35.31822396, -23.02999797,\n",
       "       -27.87548239,   9.31907735,   7.43259035,  10.29312233,\n",
       "        -3.42217917,  20.54661921,  -0.71591827, -33.95582101,\n",
       "        11.50520746, -11.78662324, -20.76099209, -29.91723888,\n",
       "       -34.01563226, -14.81502698,   7.78255419,  11.79829818,\n",
       "        -3.02371748,  -1.01589796,  20.66980973,   1.74352605,\n",
       "       -37.73265569,  14.98705   ,  -8.21062318, -19.61958423,\n",
       "       -24.67746412, -32.57519047,  -4.41917509,  14.62154369,\n",
       "         9.3432682 ,   4.58901041,  -2.43135125,  21.06840799,\n",
       "        -0.13265929, -41.97710939,   6.80707092,  -4.00321898,\n",
       "       -23.43490131, -23.92565624, -35.05526117,   2.12534372,\n",
       "        17.87943616,   3.06594292,   9.9295504 ,  -3.9376124 ])"
      ]
     },
     "execution_count": 10,
     "metadata": {},
     "output_type": "execute_result"
    }
   ],
   "source": [
    "homero[0]"
   ]
  },
  {
   "cell_type": "code",
   "execution_count": 11,
   "metadata": {},
   "outputs": [
    {
     "data": {
      "text/plain": [
       "array([ 13.45469613, -11.74664573,   0.83810425,  -4.41190443,\n",
       "       -15.03683097,   9.22118708, -20.97075208,   3.49007006,\n",
       "       -14.55346951,   3.69827719,   9.56741389,   7.553959  ,\n",
       "         6.55940766,  15.04428306,  -8.24775089, -13.85182391,\n",
       "        -2.68081226,  -3.4921645 ,  -4.08495373, -15.79572271,\n",
       "        -6.63121145,  -5.27985443,  14.2791161 ,  -0.48869955,\n",
       "         7.15436944,   5.7909795 ,  17.0585126 ,   3.37211779,\n",
       "        -8.40272765, -11.95630534, -20.49241542, -21.76964907,\n",
       "         0.52262036,  -7.27174821, -12.46115223,   0.77876468,\n",
       "        -9.24232837, -10.0308377 ,  -1.58369997,  17.79648597,\n",
       "         3.37324026,  -7.41723784, -13.87993555, -32.35063997,\n",
       "       -29.02041881,   2.75402301, -10.87102664, -14.00894147,\n",
       "        -0.10761005, -13.75258763,  -6.92901847,   6.06855987,\n",
       "        18.24939875,   4.51582829,  -1.49475212, -15.7522511 ,\n",
       "       -42.73860277, -40.5503659 ,  16.14492621, -11.53843822,\n",
       "       -18.72406055,  -0.19541117,  -0.66140254,  -1.14057938,\n",
       "         1.71974325,  18.09917485,   3.97803097,  -0.83498758,\n",
       "       -14.98256732, -40.56510744, -37.87039089,  21.92294786,\n",
       "        -7.48623459, -10.38388614,   9.99297724,   4.8761711 ,\n",
       "         0.33558335,  10.37497267,  17.88303143,   5.15703028,\n",
       "        -3.75106143, -12.11925266, -35.14289989, -36.42663027,\n",
       "        25.56767274,   0.13000148, -14.40092386,   2.0931958 ,\n",
       "         4.15588638,   9.10763455,  10.05761938,  17.88906526,\n",
       "         4.42273797,  -9.68681632, -10.95439924, -34.5146231 ,\n",
       "       -32.22442545,  25.87585055,  -6.07185164, -20.98222605,\n",
       "        -0.27045946,   9.43521798,  12.36383934,  10.80264916,\n",
       "        18.03027466,   2.56142341, -12.79679496, -14.00897346,\n",
       "       -35.52415685, -34.62351366,  25.61748388, -18.67811952,\n",
       "       -17.14738936,  -1.85749124,  20.69196502,  11.17150329,\n",
       "        14.77523532,  17.9363805 ,   0.50903961,  -9.610716  ,\n",
       "       -12.15196166, -33.291131  , -26.43602604,  20.93868586,\n",
       "       -24.3550847 , -13.90062952,  -6.4031133 ,  23.96430818,\n",
       "         2.98919198,  21.6891883 ,  17.39383366,  -2.40447101,\n",
       "        -4.59343616,  -8.65917934, -27.8788996 , -15.27632941,\n",
       "         5.60973533, -30.05795159,  -8.17141483,  -5.64686841,\n",
       "        18.2601278 ,  -2.4335058 ,  19.91345283,  16.93244384,\n",
       "        -5.13565064,  -1.90659493,  -4.79286568, -27.46537917,\n",
       "        -8.7686432 ,  -2.88681146, -30.37986183, -12.22811492,\n",
       "        -9.56052784,  18.33092074,  -6.76194809,  14.64500214,\n",
       "        16.63682132,  -8.34866232,   0.20097812,   5.96370355,\n",
       "       -20.61745162,  10.72594246,  -6.41229864, -19.31559997,\n",
       "       -21.51885107,  -2.52219613,   4.43135952,   1.79524228,\n",
       "        11.46522062,  17.15813636,  -9.11912526,  -4.69300657,\n",
       "         4.17701662, -15.51474474,   4.32455652, -16.76780245,\n",
       "       -27.55024498, -31.3239666 ,  -0.88340603,  -7.68064887,\n",
       "         1.65575489,   0.83237611,  18.44927494,  -3.69121761,\n",
       "       -14.9631594 ,   8.13625676, -13.06762333,  -4.58521067,\n",
       "       -28.38886134, -19.42341219, -36.80950151,   6.75212159,\n",
       "         7.39810854,  10.7085271 ,   0.74671271,  19.97985968,\n",
       "        -2.1121547 , -31.88211143,   8.12560522, -15.89992891,\n",
       "       -13.98901612, -35.31822396, -23.02999797, -27.87548239,\n",
       "         9.31907735,   7.43259035,  10.29312233,  -3.42217917,\n",
       "        20.54661921,  -0.71591827, -33.95582101,  11.50520746,\n",
       "       -11.78662324, -20.76099209, -29.91723888, -34.01563226,\n",
       "       -14.81502698,   7.78255419,  11.79829818,  -3.02371748,\n",
       "        -1.01589796,  20.66980973,   1.74352605, -37.73265569,\n",
       "        14.98705   ,  -8.21062318, -19.61958423, -24.67746412,\n",
       "       -32.57519047,  -4.41917509,  14.62154369,   9.3432682 ,\n",
       "         4.58901041,  -2.43135125,  21.06840799,  -0.13265929,\n",
       "       -41.97710939,   6.80707092,  -4.00321898, -23.43490131,\n",
       "       -23.92565624, -35.05526117,   2.12534372,  17.87943616,\n",
       "         3.06594292,   9.9295504 ,  -3.9376124 ,  21.21846979,\n",
       "        -0.56122087, -43.94497434,   7.47799959,  -6.21247044,\n",
       "       -24.76620635, -26.94756167, -36.61374001,  18.08432673,\n",
       "        25.71455296,   9.9474329 ,  15.92496927,  -4.90413439])"
      ]
     },
     "execution_count": 11,
     "metadata": {},
     "output_type": "execute_result"
    }
   ],
   "source": [
    "homero[1]"
   ]
  },
  {
   "cell_type": "code",
   "execution_count": 12,
   "metadata": {},
   "outputs": [],
   "source": [
    "homero_labels=np.array([[1,0]]*homero.shape[0])"
   ]
  },
  {
   "cell_type": "code",
   "execution_count": 13,
   "metadata": {},
   "outputs": [
    {
     "data": {
      "text/plain": [
       "(1835, 2)"
      ]
     },
     "execution_count": 13,
     "metadata": {},
     "output_type": "execute_result"
    }
   ],
   "source": [
    "homero_labels.shape"
   ]
  },
  {
   "cell_type": "code",
   "execution_count": 14,
   "metadata": {},
   "outputs": [
    {
     "data": {
      "text/plain": [
       "(8999, 2)"
      ]
     },
     "execution_count": 14,
     "metadata": {},
     "output_type": "execute_result"
    }
   ],
   "source": [
    "mundo_labels.shape"
   ]
  },
  {
   "cell_type": "code",
   "execution_count": 15,
   "metadata": {},
   "outputs": [],
   "source": [
    "train_labels=np.vstack([homero_labels,mundo_labels])"
   ]
  },
  {
   "cell_type": "code",
   "execution_count": 16,
   "metadata": {},
   "outputs": [],
   "source": [
    "train_set=np.vstack([homero,mundo])"
   ]
  },
  {
   "cell_type": "code",
   "execution_count": 17,
   "metadata": {},
   "outputs": [
    {
     "data": {
      "text/plain": [
       "(10834, 260)"
      ]
     },
     "execution_count": 17,
     "metadata": {},
     "output_type": "execute_result"
    }
   ],
   "source": [
    "train_set.shape"
   ]
  },
  {
   "cell_type": "code",
   "execution_count": 18,
   "metadata": {},
   "outputs": [
    {
     "data": {
      "text/plain": [
       "(10834, 2)"
      ]
     },
     "execution_count": 18,
     "metadata": {},
     "output_type": "execute_result"
    }
   ],
   "source": [
    "train_labels.shape"
   ]
  },
  {
   "cell_type": "code",
   "execution_count": 19,
   "metadata": {},
   "outputs": [],
   "source": [
    "mfcc_feat=mfcc_wav(\"mundo_test_1.wav\")\n",
    "mundo_size=mfcc_feat.shape[0]-WINDOW_SIZE+1\n",
    "mundo=np.array([mfcc_feat[i:i+WINDOW_SIZE].reshape(1,WINDOW_SIZE*mfcc_feat.shape[1])[0] for i in range(mundo_size)])\n",
    "mundo_labels=np.array([[0,1]]*mundo.shape[0])\n",
    "mfcc_feat=mfcc_wav(\"homero_test.wav\")\n",
    "homero_size=mfcc_feat.shape[0]-WINDOW_SIZE+1\n",
    "homero=np.array([mfcc_feat[i:i+WINDOW_SIZE].reshape(1,WINDOW_SIZE*mfcc_feat.shape[1])[0] for i in range(homero_size)])\n",
    "homero_labels=np.array([[1,0]]*homero.shape[0])\n",
    "test_labels=np.vstack([homero_labels,mundo_labels])\n",
    "test_set=np.vstack([homero,mundo])\n",
    "\n",
    "mfcc_feat=mfcc_wav(\"mundo_test_2.wav\")\n",
    "mundo_size=mfcc_feat.shape[0]-WINDOW_SIZE+1\n",
    "mundo=np.array([mfcc_feat[i:i+WINDOW_SIZE].reshape(1,WINDOW_SIZE*mfcc_feat.shape[1])[0] for i in range(mundo_size)])\n",
    "mundo_labels=np.array([[0,1]]*mundo.shape[0])\n",
    "mfcc_feat=mfcc_wav(\"homero_test_2.wav\")\n",
    "homero_size=mfcc_feat.shape[0]-WINDOW_SIZE+1\n",
    "homero=np.array([mfcc_feat[i:i+WINDOW_SIZE].reshape(1,WINDOW_SIZE*mfcc_feat.shape[1])[0] for i in range(homero_size)])\n",
    "homero_labels=np.array([[1,0]]*homero.shape[0])\n",
    "test2_labels=np.vstack([homero_labels,mundo_labels])\n",
    "test2_set=np.vstack([homero,mundo])"
   ]
  },
  {
   "cell_type": "code",
   "execution_count": 20,
   "metadata": {},
   "outputs": [],
   "source": [
    "def next_batch(num, data, labels):\n",
    "    '''\n",
    "    Return a total of `num` random samples and labels. \n",
    "    '''\n",
    "    idx = np.arange(0 , len(data))\n",
    "    np.random.shuffle(idx)\n",
    "    idx = idx[:num]\n",
    "    data_shuffle = [data[i] for i in idx]\n",
    "    labels_shuffle = [labels[i] for i in idx]\n",
    "    return np.asarray(data_shuffle), np.asarray(labels_shuffle)"
   ]
  },
  {
   "cell_type": "code",
   "execution_count": 21,
   "metadata": {},
   "outputs": [
    {
     "name": "stderr",
     "output_type": "stream",
     "text": [
      "/home/cselmo/anaconda3/envs/OpLaDyn/lib/python3.6/site-packages/h5py/__init__.py:36: FutureWarning: Conversion of the second argument of issubdtype from `float` to `np.floating` is deprecated. In future, it will be treated as `np.float64 == np.dtype(float).type`.\n",
      "  from ._conv import register_converters as _register_converters\n"
     ]
    },
    {
     "name": "stdout",
     "output_type": "stream",
     "text": [
      "Epoch: 0001 train loss=0.611430585 crossval loss=0.448574364\n",
      "Epoch: 0002 train loss=0.276947543 crossval loss=0.285371989\n",
      "Epoch: 0003 train loss=0.238403237 crossval loss=0.331320584\n",
      "Epoch: 0004 train loss=0.207221505 crossval loss=0.342725068\n",
      "Epoch: 0005 train loss=0.184399819 crossval loss=0.305889577\n",
      "Epoch: 0006 train loss=0.176423017 crossval loss=0.305490494\n",
      "Epoch: 0007 train loss=0.157909141 crossval loss=0.298329502\n",
      "Epoch: 0008 train loss=0.162333765 crossval loss=0.282848418\n",
      "Epoch: 0009 train loss=0.141929320 crossval loss=0.285952210\n",
      "Epoch: 0010 train loss=0.137945246 crossval loss=0.295814604\n",
      "Epoch: 0011 train loss=0.147513849 crossval loss=0.283862621\n",
      "Epoch: 0012 train loss=0.135579473 crossval loss=0.311871678\n",
      "Epoch: 0013 train loss=0.137076363 crossval loss=0.318696499\n",
      "Epoch: 0014 train loss=0.129753120 crossval loss=0.235178530\n",
      "Epoch: 0015 train loss=0.117921015 crossval loss=0.276717901\n",
      "Epoch: 0016 train loss=0.112030178 crossval loss=0.295880616\n",
      "Epoch: 0017 train loss=0.125064443 crossval loss=0.325375557\n",
      "Epoch: 0018 train loss=0.120278488 crossval loss=0.343778104\n",
      "Epoch: 0019 train loss=0.115991454 crossval loss=0.339996129\n",
      "Epoch: 0020 train loss=0.110487773 crossval loss=0.315032423\n",
      "Epoch: 0021 train loss=0.104316688 crossval loss=0.316464573\n",
      "Epoch: 0022 train loss=0.100063608 crossval loss=0.290075719\n",
      "Epoch: 0023 train loss=0.095389898 crossval loss=0.321973860\n",
      "Epoch: 0024 train loss=0.098213512 crossval loss=0.289710253\n",
      "Epoch: 0025 train loss=0.088837041 crossval loss=0.267494529\n",
      "Epoch: 0026 train loss=0.094804820 crossval loss=0.221189529\n",
      "Epoch: 0027 train loss=0.084614572 crossval loss=0.301592141\n",
      "Epoch: 0028 train loss=0.084804403 crossval loss=0.360374212\n",
      "Epoch: 0029 train loss=0.083983575 crossval loss=0.371990144\n",
      "Epoch: 0030 train loss=0.089007546 crossval loss=0.344877809\n",
      "Epoch: 0031 train loss=0.083365156 crossval loss=0.354228735\n",
      "Epoch: 0032 train loss=0.084123686 crossval loss=0.366687834\n",
      "Epoch: 0033 train loss=0.075338816 crossval loss=0.340526968\n",
      "Epoch: 0034 train loss=0.074126848 crossval loss=0.309338629\n",
      "Epoch: 0035 train loss=0.068934133 crossval loss=0.306919903\n",
      "Epoch: 0036 train loss=0.061622354 crossval loss=0.369129211\n",
      "Epoch: 0037 train loss=0.069204544 crossval loss=0.383452296\n",
      "Epoch: 0038 train loss=0.059448430 crossval loss=0.384374142\n",
      "Epoch: 0039 train loss=0.062050923 crossval loss=0.380738348\n",
      "Epoch: 0040 train loss=0.058645468 crossval loss=0.334744871\n",
      "Epoch: 0041 train loss=0.067628169 crossval loss=0.313584030\n",
      "Epoch: 0042 train loss=0.073751616 crossval loss=0.350202560\n",
      "Optimization Finished\n",
      "Accuracy homero1: 0.6769231\n",
      "Accuracy mundo1: 0.9689579\n",
      "done in 19.745s.\n"
     ]
    }
   ],
   "source": [
    "import tensorflow as tf\n",
    "import shutil\n",
    "from time import time\n",
    "from tensorboard import summary as summary_lib\n",
    "logs_path=\"log_dir\"\n",
    "logs_path1=\"log_dir/train\"\n",
    "logs_path2=\"log_dir/test\"\n",
    "# Parameters\n",
    "learning_rate = 0.01\n",
    "training_epochs = 42\n",
    "batch_size = 256\n",
    "display_step = 1\n",
    "hidden_units=50\n",
    "\n",
    "# Network Parameters\n",
    "n_input =  train_set.shape[1] \n",
    "n_classes = 2 # classes\n",
    "\n",
    "\n",
    "with tf.name_scope(\"inputs\"):\n",
    "    # tf Graph input\n",
    "    X = tf.placeholder(\"float\", [None, n_input],name=\"X\")\n",
    "with tf.name_scope(\"labels\"):\n",
    "    Y = tf.placeholder(\"float\", [None, n_classes],name=\"Y\")\n",
    "\n",
    "# Construct model\n",
    "with tf.name_scope('Capa1'):\n",
    "    # Model\n",
    "    weights1= tf.Variable(tf.random_normal([n_input, hidden_units]),name=\"weights1\")\n",
    "    bias1= tf.Variable(tf.random_normal([hidden_units]),name=\"bias1\")\n",
    "    act1= tf.nn.sigmoid(tf.matmul(X,weights1)+bias1, name=\"activacion_1\")\n",
    "\n",
    "with tf.name_scope('Capa2'):\n",
    "    # Model\n",
    "    weights2= tf.Variable(tf.random_normal([hidden_units, n_classes]),name=\"weights2\")\n",
    "    bias2= tf.Variable(tf.random_normal([n_classes]),name=\"bias2\")\n",
    "    logits= tf.matmul(act1,weights2)+bias2\n",
    "\n",
    "with tf.name_scope('Loss'):\n",
    "# Define loss and optimizer\n",
    "    loss_op = tf.reduce_mean(tf.nn.softmax_cross_entropy_with_logits_v2(\n",
    "        logits=logits, labels=Y),name=\"costo\")\n",
    "with tf.name_scope('BGD'):\n",
    "    optimizer = tf.train.AdamOptimizer(learning_rate=learning_rate,name=\"optimizador\")\n",
    "    train_op = optimizer.minimize(loss_op)\n",
    "with tf.name_scope('Accuracy'):\n",
    "    # Accuracy\n",
    "    #pred = tf.nn.softmax(logits) # Softmax\n",
    "    acc_op = tf.equal(tf.argmax(logits, 1), tf.argmax(Y, 1))\n",
    "    acc_op = tf.reduce_mean(tf.cast(acc_op, tf.float32),name=\"acc_red_mean\")\n",
    "    \n",
    "# Initializing the variables\n",
    "init = tf.global_variables_initializer()\n",
    "# Create a summary to monitor cost tensor\n",
    "tf.summary.scalar(\"loss\", loss_op)\n",
    "# Create a summary to monitor accuracy tensor\n",
    "tf.summary.scalar(\"accuracy\", acc_op)\n",
    "# Merge all summaries into a single op\n",
    "tf.summary.histogram('histogram', weights1)\n",
    "merged_summary_op = tf.summary.merge_all()\n",
    "\n",
    "t0=time()\n",
    "with tf.Session() as sess:\n",
    "    sess.run(init)\n",
    "    # op to write logs to Tensorboard\n",
    "    summary_writer = tf.summary.FileWriter(logs_path1, graph=sess.graph)\n",
    "    summary_writer_test = tf.summary.FileWriter(logs_path2, graph=sess.graph)\n",
    "    # Training cycle\n",
    "    for epoch in range(training_epochs):\n",
    "        avg_cost = 0.\n",
    "        total_batch = int(train_set.shape[0]/batch_size)\n",
    "        # Loop over all batches\n",
    "        for i in range(total_batch):\n",
    "            batch_x, batch_y = next_batch(batch_size,train_set,train_labels)\n",
    "            # Run optimization op (backprop) and cost op (to get loss value)\n",
    "            _, c= sess.run([train_op, loss_op], feed_dict={Y: batch_y,\n",
    "                                                            X: batch_x})\n",
    "            # Compute average loss\n",
    "            avg_cost += c / total_batch\n",
    "        # Display logs per epoch step\n",
    "        if epoch % display_step == 0:\n",
    "            summary, test_cost,_ = sess.run([merged_summary_op,loss_op,acc_op],\n",
    "                                  feed_dict={X: test_set, Y: test_labels})\n",
    "            summary_writer_test.add_summary(summary, epoch)\n",
    "            print(\"Epoch:\", '%04d' % (epoch+1), \"train loss={:.9f} crossval loss={:.9f}\".format(avg_cost,test_cost))\n",
    "            summary, test_cost,_ = sess.run([merged_summary_op,loss_op,acc_op],\n",
    "                                  feed_dict={X: train_set, Y: train_labels})\n",
    "            summary_writer.add_summary(summary, epoch)\n",
    "    print(\"Optimization Finished\")        \n",
    "\n",
    "    # Test model\n",
    "    pred = tf.nn.softmax(logits)  # Apply softmax to logits\n",
    "    correct_prediction = tf.equal(tf.argmax(pred, 1), tf.argmax(Y, 1))\n",
    "    # Calculate accuracy\n",
    "    accuracy = tf.reduce_mean(tf.cast(correct_prediction, \"float\"))\n",
    "    print(\"Accuracy homero1:\", accuracy.eval({X: homero, Y: homero_labels})) \n",
    "    accuracy = tf.reduce_mean(tf.cast(correct_prediction, \"float\"))\n",
    "    print(\"Accuracy mundo1:\", accuracy.eval({X: mundo, Y: mundo_labels}))\n",
    "print(\"done in %0.3fs.\" % (time() - t0))"
   ]
  },
  {
   "cell_type": "code",
   "execution_count": null,
   "metadata": {},
   "outputs": [],
   "source": []
  },
  {
   "cell_type": "code",
   "execution_count": null,
   "metadata": {},
   "outputs": [],
   "source": []
  },
  {
   "cell_type": "code",
   "execution_count": null,
   "metadata": {},
   "outputs": [],
   "source": []
  }
 ],
 "metadata": {
  "kernelspec": {
   "display_name": "Python (OpLaDyn)",
   "language": "python",
   "name": "opladyn"
  },
  "language_info": {
   "codemirror_mode": {
    "name": "ipython",
    "version": 3
   },
   "file_extension": ".py",
   "mimetype": "text/x-python",
   "name": "python",
   "nbconvert_exporter": "python",
   "pygments_lexer": "ipython3",
   "version": "3.6.5"
  }
 },
 "nbformat": 4,
 "nbformat_minor": 2
}
